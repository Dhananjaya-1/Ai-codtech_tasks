{
 "cells": [
  {
   "cell_type": "markdown",
   "id": "1e1ecabb",
   "metadata": {},
   "source": [
    "## 1. Text Summarization Tool"
   ]
  },
  {
   "cell_type": "code",
   "execution_count": 1,
   "id": "089d812a",
   "metadata": {},
   "outputs": [
    {
     "name": "stdout",
     "output_type": "stream",
     "text": [
      "WARNING:tensorflow:From C:\\Users\\dhana\\anaconda3\\Lib\\site-packages\\keras\\src\\losses.py:2976: The name tf.losses.sparse_softmax_cross_entropy is deprecated. Please use tf.compat.v1.losses.sparse_softmax_cross_entropy instead.\n",
      "\n"
     ]
    },
    {
     "name": "stderr",
     "output_type": "stream",
     "text": [
      "C:\\Users\\dhana\\anaconda3\\Lib\\site-packages\\transformers\\utils\\generic.py:260: FutureWarning: `torch.utils._pytree._register_pytree_node` is deprecated. Please use `torch.utils._pytree.register_pytree_node` instead.\n",
      "  torch.utils._pytree._register_pytree_node(\n",
      "No model was supplied, defaulted to sshleifer/distilbart-cnn-12-6 and revision a4f8f3e (https://huggingface.co/sshleifer/distilbart-cnn-12-6).\n",
      "Using a pipeline without specifying a model name and revision in production is not recommended.\n"
     ]
    },
    {
     "name": "stdout",
     "output_type": "stream",
     "text": [
      "Original Text:\n",
      " \n",
      "Artificial Intelligence (AI) is revolutionizing industries by automating tasks, enhancing productivity, and enabling data-driven decisions.\n",
      "With recent advancements in deep learning and neural networks, AI systems have become more accurate and efficient.\n",
      "Applications of AI range from healthcare and finance to entertainment and education.\n",
      "However, ethical concerns like job displacement and data privacy need to be addressed.\n",
      "\n",
      "\n",
      "Summary:\n",
      "  Artificial Intelligence (AI) is revolutionizing industries by automating tasks, enhancing productivity, and enabling data-driven decisions . Applications range from healthcare and finance to entertainment and entertainment .\n"
     ]
    }
   ],
   "source": [
    "from transformers import pipeline\n",
    "\n",
    "# Load summarization pipeline\n",
    "summarizer = pipeline(\"summarization\")\n",
    "\n",
    "# Example long article text\n",
    "text = \"\"\"\n",
    "Artificial Intelligence (AI) is revolutionizing industries by automating tasks, enhancing productivity, and enabling data-driven decisions.\n",
    "With recent advancements in deep learning and neural networks, AI systems have become more accurate and efficient.\n",
    "Applications of AI range from healthcare and finance to entertainment and education.\n",
    "However, ethical concerns like job displacement and data privacy need to be addressed.\n",
    "\"\"\"\n",
    "\n",
    "# Summarize the article\n",
    "summary = summarizer(text, max_length=60, min_length=25, do_sample=False)\n",
    "\n",
    "print(\"Original Text:\\n\", text)\n",
    "print(\"\\nSummary:\\n\", summary[0]['summary_text'])\n"
   ]
  },
  {
   "cell_type": "markdown",
   "id": "b656fc07",
   "metadata": {},
   "source": [
    "## 2. Speech Recognition System"
   ]
  },
  {
   "cell_type": "code",
   "execution_count": 2,
   "id": "7ed729f1",
   "metadata": {},
   "outputs": [
    {
     "name": "stdout",
     "output_type": "stream",
     "text": [
      "Transcribing audio...\n",
      "Transcribed Text:\n",
      " thank you for contacting us all lines are currently busy you call is very important to us\n"
     ]
    }
   ],
   "source": [
    "import speech_recognition as sr\n",
    "\n",
    "# Initialize recognizer\n",
    "r = sr.Recognizer()\n",
    "\n",
    "# Load audio file\n",
    "with sr.AudioFile('C:\\\\INTERNSHIP\\\\4\\\\audio.wav') as source:\n",
    "    audio_data = r.record(source)\n",
    "    print(\"Transcribing audio...\")\n",
    "\n",
    "    try:\n",
    "        text = r.recognize_google(audio_data)\n",
    "        print(\"Transcribed Text:\\n\", text)\n",
    "    except sr.UnknownValueError:\n",
    "        print(\"Could not understand audio.\")\n",
    "    except sr.RequestError:\n",
    "        print(\"Request failed. Check internet connection.\")\n"
   ]
  },
  {
   "cell_type": "markdown",
   "id": "526bdfad",
   "metadata": {},
   "source": [
    "## 3. Nueral Style Transfer"
   ]
  },
  {
   "cell_type": "code",
   "execution_count": 3,
   "id": "c80c8467",
   "metadata": {},
   "outputs": [],
   "source": [
    "import torch\n",
    "import torchvision.transforms as transforms\n",
    "from PIL import Image\n",
    "from torchvision.models import vgg19\n",
    "from torchvision.utils import save_image\n",
    "\n",
    "# Load and transform images\n",
    "def load_image(path):\n",
    "    image = Image.open(path)\n",
    "    transform = transforms.Compose([\n",
    "        transforms.Resize((512, 512)),\n",
    "        transforms.ToTensor()\n",
    "    ])\n",
    "    image = transform(image).unsqueeze(0)\n",
    "    return image\n",
    "\n",
    "content = load_image(\"C:\\\\INTERNSHIP\\\\4\\\\mona.jpg\")\n",
    "style = load_image(\"C:\\\\INTERNSHIP\\\\4\\\\s4.jpg\")\n",
    "\n",
    "# Dummy transfer for demonstration\n",
    "output = 0.7 * content + 0.3 * style\n",
    "save_image(output, \"C:\\\\INTERNSHIP\\\\4\\\\styled_output.jpg\")\n"
   ]
  },
  {
   "cell_type": "markdown",
   "id": "36cb6c79",
   "metadata": {},
   "source": [
    "## 4. Generative Text Model"
   ]
  },
  {
   "cell_type": "code",
   "execution_count": 6,
   "id": "4e63eb22",
   "metadata": {},
   "outputs": [
    {
     "name": "stderr",
     "output_type": "stream",
     "text": [
      "C:\\Users\\dhana\\anaconda3\\Lib\\site-packages\\transformers\\utils\\generic.py:260: FutureWarning: `torch.utils._pytree._register_pytree_node` is deprecated. Please use `torch.utils._pytree.register_pytree_node` instead.\n",
      "  torch.utils._pytree._register_pytree_node(\n"
     ]
    },
    {
     "name": "stdout",
     "output_type": "stream",
     "text": [
      "Generated Paragraph:\n",
      "The impact of artificial intelligence on education and training for young people is significant and will only become clearer in a few years,\" the committee's co-chairs wrote. \"The challenge for these organisations is to understand how and why this will happen and to develop an integrated approach that will protect the students' future and promote excellence in education. This can happen because AI can adapt, but it needs to understand that what it learns is not the same as what it learns from its parents.\"\n",
      "\n",
      "The committee's findings were based on a two-year survey of schools from across the country. The results of which were presented today at the annual conference on artificial intelligence at the New York University.\n",
      "\n",
      "The committee said: \"The current debate over the future of human-directed learning focuses on the challenges the future could bring, which are broadly based and include changing educational environments, technology, and social support systems.\"\n",
      "\n",
      "It warned that AI could change some basic social and cultural behaviours, including the need for safe\n"
     ]
    }
   ],
   "source": [
    "from transformers import GPT2LMHeadModel, GPT2Tokenizer\n",
    "\n",
    "def generate_paragraph(prompt, max_length=200):\n",
    "    model_name = \"gpt2\"\n",
    "    model = GPT2LMHeadModel.from_pretrained(model_name)\n",
    "    tokenizer = GPT2Tokenizer.from_pretrained(model_name)\n",
    "\n",
    "    inputs = tokenizer.encode(prompt, return_tensors=\"pt\")\n",
    "    outputs = model.generate(\n",
    "        inputs,\n",
    "        max_length=max_length,\n",
    "        num_return_sequences=1,\n",
    "        do_sample=True,\n",
    "        top_k=50,\n",
    "        top_p=0.95,\n",
    "        temperature=0.9,\n",
    "        pad_token_id=tokenizer.eos_token_id\n",
    "    )\n",
    "\n",
    "    paragraph = tokenizer.decode(outputs[0], skip_special_tokens=True)\n",
    "    return paragraph\n",
    "\n",
    "# Example: Change this topic to generate other paragraphs\n",
    "topic = \"The impact of artificial intelligence on education\"\n",
    "print(\"Generated Paragraph:\")\n",
    "print(generate_paragraph(topic))"
   ]
  }
 ],
 "metadata": {
  "kernelspec": {
   "display_name": "Python 3 (ipykernel)",
   "language": "python",
   "name": "python3"
  },
  "language_info": {
   "codemirror_mode": {
    "name": "ipython",
    "version": 3
   },
   "file_extension": ".py",
   "mimetype": "text/x-python",
   "name": "python",
   "nbconvert_exporter": "python",
   "pygments_lexer": "ipython3",
   "version": "3.11.5"
  }
 },
 "nbformat": 4,
 "nbformat_minor": 5
}
